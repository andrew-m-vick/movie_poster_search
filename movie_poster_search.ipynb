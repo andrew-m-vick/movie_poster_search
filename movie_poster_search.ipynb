{
 "cells": [
  {
   "cell_type": "code",
   "execution_count": null,
   "metadata": {},
   "outputs": [],
   "source": [
    "import requests\n",
    "from config import api_key\n",
    "\n",
    "def get_movie_poster(movie_title):\n",
    "    url = f\"http://www.omdbapi.com/?t={movie_title}&h=full&apikey={api_key}\"\n",
    "    response = requests.get(url)\n",
    "    data = response.json()\n",
    "\n",
    "    if 'Poster' in data and data['Poster'] != 'N/A':\n",
    "        poster_url = data['Poster']\n",
    "        modified_poster_url = poster_url[:poster_url.rfind(\"SX300\")] + \"0\" + poster_url[poster_url.rfind(\"SX300\"):]\n",
    "        import webbrowser\n",
    "        webbrowser.open(modified_poster_url)\n",
    "    else:\n",
    "        print(\"Poster not found for\", movie_title)\n",
    "\n",
    "while True:\n",
    "    movie_title = input(\"Enter title (or 'quit' to exit): \")\n",
    "    if movie_title.lower() == 'quit':\n",
    "        break\n",
    "    get_movie_poster(movie_title)\n",
    "\n",
    "print(\"Exiting...\")"
   ]
  },
  {
   "cell_type": "code",
   "execution_count": null,
   "metadata": {},
   "outputs": [],
   "source": []
  }
 ],
 "metadata": {
  "kernelspec": {
   "display_name": "Python 3 (ipykernel)",
   "language": "python",
   "name": "python3"
  },
  "language_info": {
   "codemirror_mode": {
    "name": "ipython",
    "version": 3
   },
   "file_extension": ".py",
   "mimetype": "text/x-python",
   "name": "python",
   "nbconvert_exporter": "python",
   "pygments_lexer": "ipython3",
   "version": "3.10.14"
  },
  "varInspector": {
   "cols": {
    "lenName": 16,
    "lenType": 16,
    "lenVar": 40
   },
   "kernels_config": {
    "python": {
     "delete_cmd_postfix": "",
     "delete_cmd_prefix": "del ",
     "library": "var_list.py",
     "varRefreshCmd": "print(var_dic_list())"
    },
    "r": {
     "delete_cmd_postfix": ") ",
     "delete_cmd_prefix": "rm(",
     "library": "var_list.r",
     "varRefreshCmd": "cat(var_dic_list()) "
    }
   },
   "types_to_exclude": [
    "module",
    "function",
    "builtin_function_or_method",
    "instance",
    "_Feature"
   ],
   "window_display": false
  }
 },
 "nbformat": 4,
 "nbformat_minor": 4
}
